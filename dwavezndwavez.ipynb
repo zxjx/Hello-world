{
 "metadata": {
  "language_info": {
   "codemirror_mode": {
    "name": "ipython",
    "version": 3
   },
   "file_extension": ".py",
   "mimetype": "text/x-python",
   "name": "python",
   "nbconvert_exporter": "python",
   "pygments_lexer": "ipython3",
   "version": "3.8.5-final"
  },
  "orig_nbformat": 2,
  "kernelspec": {
   "name": "python3",
   "display_name": "Python 3.8.5 64-bit ('base': conda)",
   "metadata": {
    "interpreter": {
     "hash": "344443636c3027c5042750c9c609acdda283a9c43681b128a8c1053e7ad2aa7d"
    }
   }
  }
 },
 "nbformat": 4,
 "nbformat_minor": 2,
 "cells": [
  {
   "cell_type": "code",
   "execution_count": 27,
   "metadata": {},
   "outputs": [],
   "source": [
    "# First, install dwave.\n",
    "# Next, set up account with Leap.  Get API token.\n",
    "# Run dwave setup, give it the API.\n",
    "# Now you can use DWaveSampler and EmbeddingComposite\n",
    "#\n",
    "# -- Import stuff\n",
    "\n",
    "from collections import defaultdict\n",
    "from matplotlib import pyplot as plt\n",
    "import networkx as nx\n",
    "from dwave.system.samplers import DWaveSampler\n",
    "from dwave.system.composites import EmbeddingComposite"
   ]
  },
  {
   "cell_type": "code",
   "execution_count": 21,
   "metadata": {},
   "outputs": [],
   "source": [
    "input_data = {(0,1):1,(1,2):1,(1,3):1,(0,0):-1,(1,1):-1,(2,2):-1}\n",
    "# When the below line is uncommented, minimum energy should be -5.0\n",
    "input_data[(3,3)] = -1\n",
    "\n",
    "h = []\n",
    "J = defaultdict(int)\n",
    "T = nx.Graph()"
   ]
  },
  {
   "cell_type": "code",
   "execution_count": 22,
   "metadata": {},
   "outputs": [
    {
     "output_type": "stream",
     "name": "stdout",
     "text": [
      "{(0, 1): 1, (1, 2): 1, (1, 3): 1, (0, 0): -1, (1, 1): -1, (2, 2): -1, (3, 3): -1}\n"
     ]
    }
   ],
   "source": [
    "print(input_data)\n"
   ]
  },
  {
   "cell_type": "code",
   "execution_count": 23,
   "metadata": {},
   "outputs": [
    {
     "output_type": "stream",
     "name": "stdout",
     "text": [
      "J dictionary:   defaultdict(<class 'int'>, {(0, 1): 1, (1, 2): 1, (1, 3): 1})\nh list:  [-1, -1, -1, -1]\n"
     ]
    },
    {
     "output_type": "display_data",
     "data": {
      "text/plain": "<Figure size 432x288 with 1 Axes>",
      "image/svg+xml": "<?xml version=\"1.0\" encoding=\"utf-8\" standalone=\"no\"?>\n<!DOCTYPE svg PUBLIC \"-//W3C//DTD SVG 1.1//EN\"\n  \"http://www.w3.org/Graphics/SVG/1.1/DTD/svg11.dtd\">\n<!-- Created with matplotlib (https://matplotlib.org/) -->\n<svg height=\"302.4pt\" version=\"1.1\" viewBox=\"0 0 446.4 302.4\" width=\"446.4pt\" xmlns=\"http://www.w3.org/2000/svg\" xmlns:xlink=\"http://www.w3.org/1999/xlink\">\n <metadata>\n  <rdf:RDF xmlns:cc=\"http://creativecommons.org/ns#\" xmlns:dc=\"http://purl.org/dc/elements/1.1/\" xmlns:rdf=\"http://www.w3.org/1999/02/22-rdf-syntax-ns#\">\n   <cc:Work>\n    <dc:type rdf:resource=\"http://purl.org/dc/dcmitype/StillImage\"/>\n    <dc:date>2021-03-11T00:54:44.390402</dc:date>\n    <dc:format>image/svg+xml</dc:format>\n    <dc:creator>\n     <cc:Agent>\n      <dc:title>Matplotlib v3.3.2, https://matplotlib.org/</dc:title>\n     </cc:Agent>\n    </dc:creator>\n   </cc:Work>\n  </rdf:RDF>\n </metadata>\n <defs>\n  <style type=\"text/css\">*{stroke-linecap:butt;stroke-linejoin:round;}</style>\n </defs>\n <g id=\"figure_1\">\n  <g id=\"patch_1\">\n   <path d=\"M 0 302.4 \nL 446.4 302.4 \nL 446.4 0 \nL 0 0 \nz\n\" style=\"fill:#ffffff;\"/>\n  </g>\n  <g id=\"axes_1\">\n   <g id=\"LineCollection_1\">\n    <path clip-path=\"url(#p521275c345)\" d=\"M 357.369941 20.290909 \nL 267.916409 162.378027 \n\" style=\"fill:none;stroke:#000000;\"/>\n    <path clip-path=\"url(#p521275c345)\" d=\"M 267.916409 162.378027 \nL 419.563636 282.109091 \n\" style=\"fill:none;stroke:#000000;\"/>\n    <path clip-path=\"url(#p521275c345)\" d=\"M 267.916409 162.378027 \nL 26.836364 184.797757 \n\" style=\"fill:none;stroke:#000000;\"/>\n   </g>\n   <g id=\"PathCollection_1\">\n    <defs>\n     <path d=\"M 0 8.660254 \nC 2.296726 8.660254 4.499694 7.747755 6.123724 6.123724 \nC 7.747755 4.499694 8.660254 2.296726 8.660254 0 \nC 8.660254 -2.296726 7.747755 -4.499694 6.123724 -6.123724 \nC 4.499694 -7.747755 2.296726 -8.660254 0 -8.660254 \nC -2.296726 -8.660254 -4.499694 -7.747755 -6.123724 -6.123724 \nC -7.747755 -4.499694 -8.660254 -2.296726 -8.660254 0 \nC -8.660254 2.296726 -7.747755 4.499694 -6.123724 6.123724 \nC -4.499694 7.747755 -2.296726 8.660254 0 8.660254 \nz\n\" id=\"m6569421c3d\" style=\"stroke:#1f78b4;\"/>\n    </defs>\n    <g clip-path=\"url(#p521275c345)\">\n     <use style=\"fill:#1f78b4;stroke:#1f78b4;\" x=\"357.369941\" xlink:href=\"#m6569421c3d\" y=\"20.290909\"/>\n     <use style=\"fill:#1f78b4;stroke:#1f78b4;\" x=\"267.916409\" xlink:href=\"#m6569421c3d\" y=\"162.378027\"/>\n     <use style=\"fill:#1f78b4;stroke:#1f78b4;\" x=\"419.563636\" xlink:href=\"#m6569421c3d\" y=\"282.109091\"/>\n     <use style=\"fill:#1f78b4;stroke:#1f78b4;\" x=\"26.836364\" xlink:href=\"#m6569421c3d\" y=\"184.797757\"/>\n    </g>\n   </g>\n  </g>\n </g>\n <defs>\n  <clipPath id=\"p521275c345\">\n   <rect height=\"288\" width=\"432\" x=\"7.2\" y=\"7.2\"/>\n  </clipPath>\n </defs>\n</svg>\n",
      "image/png": "[encoded data removed]"
     },
     "metadata": {}
    }
   ],
   "source": [
    "# Update J as a dictionary, not a matrix. Update h for each node, h is a list.\n",
    "for item in input_data.items():\n",
    "    if item[0][0] != item[0][1]:\n",
    "        T.add_edge(item[0][0],item[0][1])\n",
    "        J.update([item])\n",
    "    elif item[0][0] == item[0][1]:\n",
    "        h.append(item[1])\n",
    "\n",
    "nx.draw(T)\n",
    "print('J dictionary:  ', J)\n",
    "print('h list: ',h)"
   ]
  },
  {
   "cell_type": "code",
   "execution_count": 24,
   "metadata": {},
   "outputs": [],
   "source": [
    "# Set Chain Strength and number of shots:\n",
    "chainstrength = 2\n",
    "shots = 10\n"
   ]
  },
  {
   "cell_type": "code",
   "execution_count": 25,
   "metadata": {},
   "outputs": [],
   "source": [
    "sampler = EmbeddingComposite(DWaveSampler())\n",
    "response = sampler.sample_ising(h, J,\n",
    "                                chain_strength=chainstrength,\n",
    "                                num_reads=shots)\n",
    "energies = iter(response.data())\n",
    "\n"
   ]
  },
  {
   "cell_type": "code",
   "execution_count": 26,
   "metadata": {},
   "outputs": [
    {
     "output_type": "stream",
     "name": "stdout",
     "text": [
      "   0  1  2  3 energy num_oc. chain_.\n0 +1 -1 +1 +1   -5.0      10     0.0\n['SPIN', 1 rows, 10 samples, 4 variables]\n"
     ]
    }
   ],
   "source": [
    "# -- Print that shinola right meow\n",
    "print(response)"
   ]
  },
  {
   "cell_type": "code",
   "execution_count": null,
   "metadata": {},
   "outputs": [],
   "source": [
    "# If node(3) spin is missing, then the minimum energy \n",
    "# is returned as -4.0. The state is +-++.  \n",
    "# \n",
    "# If node(3) spin is set to -1 as it should be, then\n",
    "# the minimum energy state is still +-++, but the\n",
    "# minimum energy eigenvalue is -5.0.\n",
    "#\n",
    "# This makes sense.  If nodes are sharing energy, then\n",
    "# we should expect a leaf node to share less of its energy\n",
    "# than an internal node. \n"
   ]
  }
 ]
}